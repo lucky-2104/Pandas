{
 "cells": [
  {
   "cell_type": "code",
   "execution_count": 15,
   "id": "a2adcb3c-cdc4-4337-b4ff-aea293010dae",
   "metadata": {},
   "outputs": [],
   "source": [
    "people = {\n",
    "\n",
    "    \"first\" : [\"Lokesh \" ,\"Abhishek\"],\n",
    "    \"last\":  [\"Joshi\" ,\"Chauhan\"],\n",
    "    \"email\": [ \"lokesh2104joshi\" ,\"a6030\"]\n",
    "}"
   ]
  },
  {
   "cell_type": "code",
   "execution_count": 16,
   "id": "d1c4f7c8-7e48-4cc0-bf9a-2235934507e2",
   "metadata": {},
   "outputs": [],
   "source": [
    "import pandas as pd\n"
   ]
  },
  {
   "cell_type": "code",
   "execution_count": 17,
   "id": "1568a265-ba9c-4af7-ae7f-b3cea21f4c94",
   "metadata": {},
   "outputs": [],
   "source": [
    "df = pd.DataFrame(people)"
   ]
  },
  {
   "cell_type": "code",
   "execution_count": 18,
   "id": "c66fedd9-de29-495f-882d-d77c4e0568a1",
   "metadata": {},
   "outputs": [
    {
     "data": {
      "text/html": [
       "<div>\n",
       "<style scoped>\n",
       "    .dataframe tbody tr th:only-of-type {\n",
       "        vertical-align: middle;\n",
       "    }\n",
       "\n",
       "    .dataframe tbody tr th {\n",
       "        vertical-align: top;\n",
       "    }\n",
       "\n",
       "    .dataframe thead th {\n",
       "        text-align: right;\n",
       "    }\n",
       "</style>\n",
       "<table border=\"1\" class=\"dataframe\">\n",
       "  <thead>\n",
       "    <tr style=\"text-align: right;\">\n",
       "      <th></th>\n",
       "      <th>first</th>\n",
       "      <th>last</th>\n",
       "      <th>email</th>\n",
       "    </tr>\n",
       "  </thead>\n",
       "  <tbody>\n",
       "    <tr>\n",
       "      <th>0</th>\n",
       "      <td>Lokesh</td>\n",
       "      <td>Joshi</td>\n",
       "      <td>lokesh2104joshi</td>\n",
       "    </tr>\n",
       "    <tr>\n",
       "      <th>1</th>\n",
       "      <td>Abhishek</td>\n",
       "      <td>Chauhan</td>\n",
       "      <td>a6030</td>\n",
       "    </tr>\n",
       "  </tbody>\n",
       "</table>\n",
       "</div>"
      ],
      "text/plain": [
       "      first     last            email\n",
       "0   Lokesh     Joshi  lokesh2104joshi\n",
       "1  Abhishek  Chauhan            a6030"
      ]
     },
     "execution_count": 18,
     "metadata": {},
     "output_type": "execute_result"
    }
   ],
   "source": [
    "df"
   ]
  },
  {
   "cell_type": "code",
   "execution_count": 19,
   "id": "f36f8306-6264-48b2-9bc1-6b9e93ba9b7d",
   "metadata": {},
   "outputs": [
    {
     "data": {
      "text/plain": [
       "0    lokesh2104joshi\n",
       "1              a6030\n",
       "Name: email, dtype: object"
      ]
     },
     "execution_count": 19,
     "metadata": {},
     "output_type": "execute_result"
    }
   ],
   "source": [
    "df['email']"
   ]
  },
  {
   "cell_type": "code",
   "execution_count": 22,
   "id": "ea54e608-f81d-47ae-bcdb-ac2cb18e2420",
   "metadata": {},
   "outputs": [],
   "source": [
    "df.set_index('email' , inplace = True)  # sets the column as the index"
   ]
  },
  {
   "cell_type": "code",
   "execution_count": 23,
   "id": "6e5462e1-ebbf-4773-9437-f3e3c0bc4492",
   "metadata": {},
   "outputs": [
    {
     "data": {
      "text/html": [
       "<div>\n",
       "<style scoped>\n",
       "    .dataframe tbody tr th:only-of-type {\n",
       "        vertical-align: middle;\n",
       "    }\n",
       "\n",
       "    .dataframe tbody tr th {\n",
       "        vertical-align: top;\n",
       "    }\n",
       "\n",
       "    .dataframe thead th {\n",
       "        text-align: right;\n",
       "    }\n",
       "</style>\n",
       "<table border=\"1\" class=\"dataframe\">\n",
       "  <thead>\n",
       "    <tr style=\"text-align: right;\">\n",
       "      <th></th>\n",
       "      <th>first</th>\n",
       "      <th>last</th>\n",
       "    </tr>\n",
       "    <tr>\n",
       "      <th>email</th>\n",
       "      <th></th>\n",
       "      <th></th>\n",
       "    </tr>\n",
       "  </thead>\n",
       "  <tbody>\n",
       "    <tr>\n",
       "      <th>lokesh2104joshi</th>\n",
       "      <td>Lokesh</td>\n",
       "      <td>Joshi</td>\n",
       "    </tr>\n",
       "    <tr>\n",
       "      <th>a6030</th>\n",
       "      <td>Abhishek</td>\n",
       "      <td>Chauhan</td>\n",
       "    </tr>\n",
       "  </tbody>\n",
       "</table>\n",
       "</div>"
      ],
      "text/plain": [
       "                    first     last\n",
       "email                             \n",
       "lokesh2104joshi   Lokesh     Joshi\n",
       "a6030            Abhishek  Chauhan"
      ]
     },
     "execution_count": 23,
     "metadata": {},
     "output_type": "execute_result"
    }
   ],
   "source": [
    "df"
   ]
  },
  {
   "cell_type": "code",
   "execution_count": 27,
   "id": "eeeffa1c-9f05-4896-8891-081829b9b35b",
   "metadata": {},
   "outputs": [
    {
     "data": {
      "text/plain": [
       "first    Lokesh \n",
       "last       Joshi\n",
       "Name: lokesh2104joshi, dtype: object"
      ]
     },
     "execution_count": 27,
     "metadata": {},
     "output_type": "execute_result"
    }
   ],
   "source": [
    "df.loc['lokesh2104joshi' , ['first','last']]"
   ]
  },
  {
   "cell_type": "code",
   "execution_count": 28,
   "id": "7d46a90b-ba4d-4595-8965-1d6e6eee5d7c",
   "metadata": {},
   "outputs": [],
   "source": [
    "df.reset_index(inplace = True)"
   ]
  },
  {
   "cell_type": "code",
   "execution_count": 29,
   "id": "4174e630-c36d-4c2a-a872-f09bb2685c5a",
   "metadata": {},
   "outputs": [
    {
     "data": {
      "text/html": [
       "<div>\n",
       "<style scoped>\n",
       "    .dataframe tbody tr th:only-of-type {\n",
       "        vertical-align: middle;\n",
       "    }\n",
       "\n",
       "    .dataframe tbody tr th {\n",
       "        vertical-align: top;\n",
       "    }\n",
       "\n",
       "    .dataframe thead th {\n",
       "        text-align: right;\n",
       "    }\n",
       "</style>\n",
       "<table border=\"1\" class=\"dataframe\">\n",
       "  <thead>\n",
       "    <tr style=\"text-align: right;\">\n",
       "      <th></th>\n",
       "      <th>email</th>\n",
       "      <th>first</th>\n",
       "      <th>last</th>\n",
       "    </tr>\n",
       "  </thead>\n",
       "  <tbody>\n",
       "    <tr>\n",
       "      <th>0</th>\n",
       "      <td>lokesh2104joshi</td>\n",
       "      <td>Lokesh</td>\n",
       "      <td>Joshi</td>\n",
       "    </tr>\n",
       "    <tr>\n",
       "      <th>1</th>\n",
       "      <td>a6030</td>\n",
       "      <td>Abhishek</td>\n",
       "      <td>Chauhan</td>\n",
       "    </tr>\n",
       "  </tbody>\n",
       "</table>\n",
       "</div>"
      ],
      "text/plain": [
       "             email     first     last\n",
       "0  lokesh2104joshi   Lokesh     Joshi\n",
       "1            a6030  Abhishek  Chauhan"
      ]
     },
     "execution_count": 29,
     "metadata": {},
     "output_type": "execute_result"
    }
   ],
   "source": [
    "df\n"
   ]
  },
  {
   "cell_type": "code",
   "execution_count": null,
   "id": "e3881175-90b0-46ea-95ba-4f29387203f6",
   "metadata": {},
   "outputs": [],
   "source": [
    "\n"
   ]
  }
 ],
 "metadata": {
  "kernelspec": {
   "display_name": "Python 3 (ipykernel)",
   "language": "python",
   "name": "python3"
  },
  "language_info": {
   "codemirror_mode": {
    "name": "ipython",
    "version": 3
   },
   "file_extension": ".py",
   "mimetype": "text/x-python",
   "name": "python",
   "nbconvert_exporter": "python",
   "pygments_lexer": "ipython3",
   "version": "3.11.5"
  }
 },
 "nbformat": 4,
 "nbformat_minor": 5
}
